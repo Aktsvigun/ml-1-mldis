{
 "cells": [
  {
   "cell_type": "markdown",
   "id": "d66e75d9",
   "metadata": {},
   "source": [
    "## Метод ближайших соседей для классификации"
   ]
  },
  {
   "cell_type": "markdown",
   "id": "05987202",
   "metadata": {},
   "source": [
    "Импортируем библиотеки"
   ]
  },
  {
   "cell_type": "code",
   "execution_count": 1,
   "id": "0a31364a",
   "metadata": {
    "ExecuteTime": {
     "end_time": "2021-06-01T18:02:27.097484Z",
     "start_time": "2021-06-01T18:02:25.645627Z"
    }
   },
   "outputs": [],
   "source": [
    "import pandas as pd\n",
    "\n",
    "from sklearn.preprocessing import OneHotEncoder\n",
    "from sklearn.compose import ColumnTransformer\n",
    "from sklearn.neighbors import KNeighborsClassifier\n",
    "from sklearn.model_selection import KFold\n",
    "from sklearn.decomposition import PCA\n",
    "\n",
    "import matplotlib.pyplot as plt\n",
    "%matplotlib inline"
   ]
  },
  {
   "cell_type": "markdown",
   "id": "38739225",
   "metadata": {},
   "source": [
    "Загружаем данные и трансформируем **Рейтинг** в численный вектор"
   ]
  },
  {
   "cell_type": "code",
   "execution_count": 2,
   "id": "924bd1ce",
   "metadata": {
    "ExecuteTime": {
     "end_time": "2021-06-01T18:02:27.290868Z",
     "start_time": "2021-06-01T18:02:27.099755Z"
    }
   },
   "outputs": [
    {
     "data": {
      "text/html": [
       "<div>\n",
       "<style scoped>\n",
       "    .dataframe tbody tr th:only-of-type {\n",
       "        vertical-align: middle;\n",
       "    }\n",
       "\n",
       "    .dataframe tbody tr th {\n",
       "        vertical-align: top;\n",
       "    }\n",
       "\n",
       "    .dataframe thead th {\n",
       "        text-align: right;\n",
       "    }\n",
       "</style>\n",
       "<table border=\"1\" class=\"dataframe\">\n",
       "  <thead>\n",
       "    <tr style=\"text-align: right;\">\n",
       "      <th></th>\n",
       "      <th>Timestamp</th>\n",
       "      <th>ID</th>\n",
       "      <th>Рейтинг</th>\n",
       "      <th>Группа (в формате 182)</th>\n",
       "      <th>МИ?</th>\n",
       "      <th>Осенний курс по выбору, приоритет 1</th>\n",
       "      <th>Осенний курс по выбору, приоритет 2</th>\n",
       "      <th>Осенний курс по выбору, приоритет 3</th>\n",
       "      <th>Весенний курс по выбору, приоритет 1</th>\n",
       "      <th>Весенний курс по выбору, приоритет 2</th>\n",
       "      <th>Весенний курс по выбору, приоритет 3</th>\n",
       "      <th>Вы заполняете анкету в первый раз?</th>\n",
       "    </tr>\n",
       "  </thead>\n",
       "  <tbody>\n",
       "    <tr>\n",
       "      <th>0</th>\n",
       "      <td>2020-05-15 01:12:50.543</td>\n",
       "      <td>93ff79a51cd602f1dd3028ba2c129503</td>\n",
       "      <td>704.0</td>\n",
       "      <td>181</td>\n",
       "      <td>NaN</td>\n",
       "      <td>Язык SQL</td>\n",
       "      <td>Высокопроизводительные вычисления</td>\n",
       "      <td>Матричные вычисления</td>\n",
       "      <td>Дискретная оптимизация</td>\n",
       "      <td>Численные методы</td>\n",
       "      <td>Машинное обучение 2</td>\n",
       "      <td>Да</td>\n",
       "    </tr>\n",
       "    <tr>\n",
       "      <th>1</th>\n",
       "      <td>2020-05-15 02:46:48.066</td>\n",
       "      <td>26b01b1c4cd5656bab18d24c548834fb</td>\n",
       "      <td>646.0</td>\n",
       "      <td>181</td>\n",
       "      <td>NaN</td>\n",
       "      <td>Высокопроизводительные вычисления</td>\n",
       "      <td>Безопасность компьютерных систем</td>\n",
       "      <td>Язык SQL</td>\n",
       "      <td>Дискретная оптимизация</td>\n",
       "      <td>Численные методы</td>\n",
       "      <td>Машинное обучение 2</td>\n",
       "      <td>Нет</td>\n",
       "    </tr>\n",
       "    <tr>\n",
       "      <th>2</th>\n",
       "      <td>2020-05-15 03:12:41.480</td>\n",
       "      <td>30f3653fc176d54e89ac3179c455c6dd</td>\n",
       "      <td>624.0</td>\n",
       "      <td>185</td>\n",
       "      <td>NaN</td>\n",
       "      <td>Безопасность компьютерных систем</td>\n",
       "      <td>Матричные вычисления</td>\n",
       "      <td>Моделирование временных рядов</td>\n",
       "      <td>Дискретная оптимизация</td>\n",
       "      <td>Машинное обучение 2</td>\n",
       "      <td>Численные методы</td>\n",
       "      <td>Да</td>\n",
       "    </tr>\n",
       "    <tr>\n",
       "      <th>3</th>\n",
       "      <td>2020-05-15 04:43:08.994</td>\n",
       "      <td>1528f0eaa027580820ccf0d92a53ad68</td>\n",
       "      <td>579.0</td>\n",
       "      <td>182</td>\n",
       "      <td>NaN</td>\n",
       "      <td>Statistical Learning Theory</td>\n",
       "      <td>Высокопроизводительные вычисления</td>\n",
       "      <td>Матричные вычисления</td>\n",
       "      <td>Дискретная оптимизация</td>\n",
       "      <td>Численные методы</td>\n",
       "      <td>Машинное обучение 2</td>\n",
       "      <td>Да</td>\n",
       "    </tr>\n",
       "    <tr>\n",
       "      <th>4</th>\n",
       "      <td>2020-05-15 07:47:17.197</td>\n",
       "      <td>496ea4f0d4abe264b1bb1b80eb3830c5</td>\n",
       "      <td>632.0</td>\n",
       "      <td>183</td>\n",
       "      <td>NaN</td>\n",
       "      <td>Высокопроизводительные вычисления</td>\n",
       "      <td>Безопасность компьютерных систем</td>\n",
       "      <td>Теория баз данных</td>\n",
       "      <td>Компьютерные сети</td>\n",
       "      <td>Дискретная оптимизация</td>\n",
       "      <td>Численные методы</td>\n",
       "      <td>Да</td>\n",
       "    </tr>\n",
       "  </tbody>\n",
       "</table>\n",
       "</div>"
      ],
      "text/plain": [
       "                Timestamp                                ID  Рейтинг  \\\n",
       "0 2020-05-15 01:12:50.543  93ff79a51cd602f1dd3028ba2c129503    704.0   \n",
       "1 2020-05-15 02:46:48.066  26b01b1c4cd5656bab18d24c548834fb    646.0   \n",
       "2 2020-05-15 03:12:41.480  30f3653fc176d54e89ac3179c455c6dd    624.0   \n",
       "3 2020-05-15 04:43:08.994  1528f0eaa027580820ccf0d92a53ad68    579.0   \n",
       "4 2020-05-15 07:47:17.197  496ea4f0d4abe264b1bb1b80eb3830c5    632.0   \n",
       "\n",
       "   Группа (в формате 182)  МИ? Осенний курс по выбору, приоритет 1  \\\n",
       "0                     181  NaN                            Язык SQL   \n",
       "1                     181  NaN   Высокопроизводительные вычисления   \n",
       "2                     185  NaN    Безопасность компьютерных систем   \n",
       "3                     182  NaN         Statistical Learning Theory   \n",
       "4                     183  NaN   Высокопроизводительные вычисления   \n",
       "\n",
       "  Осенний курс по выбору, приоритет 2 Осенний курс по выбору, приоритет 3  \\\n",
       "0   Высокопроизводительные вычисления                Матричные вычисления   \n",
       "1    Безопасность компьютерных систем                            Язык SQL   \n",
       "2                Матричные вычисления       Моделирование временных рядов   \n",
       "3   Высокопроизводительные вычисления                Матричные вычисления   \n",
       "4    Безопасность компьютерных систем                   Теория баз данных   \n",
       "\n",
       "  Весенний курс по выбору, приоритет 1 Весенний курс по выбору, приоритет 2  \\\n",
       "0               Дискретная оптимизация                     Численные методы   \n",
       "1               Дискретная оптимизация                     Численные методы   \n",
       "2               Дискретная оптимизация                  Машинное обучение 2   \n",
       "3               Дискретная оптимизация                     Численные методы   \n",
       "4                    Компьютерные сети               Дискретная оптимизация   \n",
       "\n",
       "  Весенний курс по выбору, приоритет 3 Вы заполняете анкету в первый раз?  \n",
       "0                  Машинное обучение 2                                 Да  \n",
       "1                  Машинное обучение 2                                Нет  \n",
       "2                     Численные методы                                 Да  \n",
       "3                  Машинное обучение 2                                 Да  \n",
       "4                     Численные методы                                 Да  "
      ]
     },
     "execution_count": 2,
     "metadata": {},
     "output_type": "execute_result"
    }
   ],
   "source": [
    "df = pd.read_excel('./data_3_course.xlsx')\n",
    "df['Рейтинг'] = df['Рейтинг'].apply(lambda x: float(x.replace(',', '.')))\n",
    "df.head()"
   ]
  },
  {
   "cell_type": "markdown",
   "id": "5803f01a",
   "metadata": {},
   "source": [
    "Способ применения one-hot encoding-a к категориальному признаку:"
   ]
  },
  {
   "cell_type": "code",
   "execution_count": 3,
   "id": "3fd54591",
   "metadata": {
    "ExecuteTime": {
     "end_time": "2021-06-01T18:02:27.303747Z",
     "start_time": "2021-06-01T18:02:27.293114Z"
    }
   },
   "outputs": [
    {
     "data": {
      "text/html": [
       "<div>\n",
       "<style scoped>\n",
       "    .dataframe tbody tr th:only-of-type {\n",
       "        vertical-align: middle;\n",
       "    }\n",
       "\n",
       "    .dataframe tbody tr th {\n",
       "        vertical-align: top;\n",
       "    }\n",
       "\n",
       "    .dataframe thead th {\n",
       "        text-align: right;\n",
       "    }\n",
       "</style>\n",
       "<table border=\"1\" class=\"dataframe\">\n",
       "  <thead>\n",
       "    <tr style=\"text-align: right;\">\n",
       "      <th></th>\n",
       "      <th>Statistical Learning Theory</th>\n",
       "      <th>Безопасность компьютерных систем</th>\n",
       "      <th>Высокопроизводительные вычисления</th>\n",
       "      <th>Матричные вычисления</th>\n",
       "      <th>Моделирование временных рядов</th>\n",
       "      <th>Принятие решений в условиях риска и неопределённости</th>\n",
       "      <th>Сбор и обработка данных с помощью краудсорсинга</th>\n",
       "      <th>Теория баз данных</th>\n",
       "      <th>Язык SQL</th>\n",
       "    </tr>\n",
       "  </thead>\n",
       "  <tbody>\n",
       "    <tr>\n",
       "      <th>0</th>\n",
       "      <td>0</td>\n",
       "      <td>0</td>\n",
       "      <td>0</td>\n",
       "      <td>0</td>\n",
       "      <td>0</td>\n",
       "      <td>0</td>\n",
       "      <td>0</td>\n",
       "      <td>0</td>\n",
       "      <td>1</td>\n",
       "    </tr>\n",
       "    <tr>\n",
       "      <th>1</th>\n",
       "      <td>0</td>\n",
       "      <td>0</td>\n",
       "      <td>1</td>\n",
       "      <td>0</td>\n",
       "      <td>0</td>\n",
       "      <td>0</td>\n",
       "      <td>0</td>\n",
       "      <td>0</td>\n",
       "      <td>0</td>\n",
       "    </tr>\n",
       "    <tr>\n",
       "      <th>2</th>\n",
       "      <td>0</td>\n",
       "      <td>1</td>\n",
       "      <td>0</td>\n",
       "      <td>0</td>\n",
       "      <td>0</td>\n",
       "      <td>0</td>\n",
       "      <td>0</td>\n",
       "      <td>0</td>\n",
       "      <td>0</td>\n",
       "    </tr>\n",
       "    <tr>\n",
       "      <th>3</th>\n",
       "      <td>1</td>\n",
       "      <td>0</td>\n",
       "      <td>0</td>\n",
       "      <td>0</td>\n",
       "      <td>0</td>\n",
       "      <td>0</td>\n",
       "      <td>0</td>\n",
       "      <td>0</td>\n",
       "      <td>0</td>\n",
       "    </tr>\n",
       "    <tr>\n",
       "      <th>4</th>\n",
       "      <td>0</td>\n",
       "      <td>0</td>\n",
       "      <td>1</td>\n",
       "      <td>0</td>\n",
       "      <td>0</td>\n",
       "      <td>0</td>\n",
       "      <td>0</td>\n",
       "      <td>0</td>\n",
       "      <td>0</td>\n",
       "    </tr>\n",
       "    <tr>\n",
       "      <th>...</th>\n",
       "      <td>...</td>\n",
       "      <td>...</td>\n",
       "      <td>...</td>\n",
       "      <td>...</td>\n",
       "      <td>...</td>\n",
       "      <td>...</td>\n",
       "      <td>...</td>\n",
       "      <td>...</td>\n",
       "      <td>...</td>\n",
       "    </tr>\n",
       "    <tr>\n",
       "      <th>218</th>\n",
       "      <td>0</td>\n",
       "      <td>1</td>\n",
       "      <td>0</td>\n",
       "      <td>0</td>\n",
       "      <td>0</td>\n",
       "      <td>0</td>\n",
       "      <td>0</td>\n",
       "      <td>0</td>\n",
       "      <td>0</td>\n",
       "    </tr>\n",
       "    <tr>\n",
       "      <th>219</th>\n",
       "      <td>0</td>\n",
       "      <td>0</td>\n",
       "      <td>0</td>\n",
       "      <td>0</td>\n",
       "      <td>0</td>\n",
       "      <td>0</td>\n",
       "      <td>0</td>\n",
       "      <td>1</td>\n",
       "      <td>0</td>\n",
       "    </tr>\n",
       "    <tr>\n",
       "      <th>220</th>\n",
       "      <td>0</td>\n",
       "      <td>0</td>\n",
       "      <td>0</td>\n",
       "      <td>0</td>\n",
       "      <td>0</td>\n",
       "      <td>0</td>\n",
       "      <td>0</td>\n",
       "      <td>0</td>\n",
       "      <td>1</td>\n",
       "    </tr>\n",
       "    <tr>\n",
       "      <th>221</th>\n",
       "      <td>0</td>\n",
       "      <td>0</td>\n",
       "      <td>0</td>\n",
       "      <td>0</td>\n",
       "      <td>0</td>\n",
       "      <td>0</td>\n",
       "      <td>0</td>\n",
       "      <td>1</td>\n",
       "      <td>0</td>\n",
       "    </tr>\n",
       "    <tr>\n",
       "      <th>222</th>\n",
       "      <td>0</td>\n",
       "      <td>1</td>\n",
       "      <td>0</td>\n",
       "      <td>0</td>\n",
       "      <td>0</td>\n",
       "      <td>0</td>\n",
       "      <td>0</td>\n",
       "      <td>0</td>\n",
       "      <td>0</td>\n",
       "    </tr>\n",
       "  </tbody>\n",
       "</table>\n",
       "<p>223 rows × 9 columns</p>\n",
       "</div>"
      ],
      "text/plain": [
       "     Statistical Learning Theory  Безопасность компьютерных систем  \\\n",
       "0                              0                                 0   \n",
       "1                              0                                 0   \n",
       "2                              0                                 1   \n",
       "3                              1                                 0   \n",
       "4                              0                                 0   \n",
       "..                           ...                               ...   \n",
       "218                            0                                 1   \n",
       "219                            0                                 0   \n",
       "220                            0                                 0   \n",
       "221                            0                                 0   \n",
       "222                            0                                 1   \n",
       "\n",
       "     Высокопроизводительные вычисления  Матричные вычисления  \\\n",
       "0                                    0                     0   \n",
       "1                                    1                     0   \n",
       "2                                    0                     0   \n",
       "3                                    0                     0   \n",
       "4                                    1                     0   \n",
       "..                                 ...                   ...   \n",
       "218                                  0                     0   \n",
       "219                                  0                     0   \n",
       "220                                  0                     0   \n",
       "221                                  0                     0   \n",
       "222                                  0                     0   \n",
       "\n",
       "     Моделирование временных рядов  \\\n",
       "0                                0   \n",
       "1                                0   \n",
       "2                                0   \n",
       "3                                0   \n",
       "4                                0   \n",
       "..                             ...   \n",
       "218                              0   \n",
       "219                              0   \n",
       "220                              0   \n",
       "221                              0   \n",
       "222                              0   \n",
       "\n",
       "     Принятие решений в условиях риска и неопределённости  \\\n",
       "0                                                    0      \n",
       "1                                                    0      \n",
       "2                                                    0      \n",
       "3                                                    0      \n",
       "4                                                    0      \n",
       "..                                                 ...      \n",
       "218                                                  0      \n",
       "219                                                  0      \n",
       "220                                                  0      \n",
       "221                                                  0      \n",
       "222                                                  0      \n",
       "\n",
       "     Сбор и обработка данных с помощью краудсорсинга  Теория баз данных  \\\n",
       "0                                                  0                  0   \n",
       "1                                                  0                  0   \n",
       "2                                                  0                  0   \n",
       "3                                                  0                  0   \n",
       "4                                                  0                  0   \n",
       "..                                               ...                ...   \n",
       "218                                                0                  0   \n",
       "219                                                0                  1   \n",
       "220                                                0                  0   \n",
       "221                                                0                  1   \n",
       "222                                                0                  0   \n",
       "\n",
       "     Язык SQL  \n",
       "0           1  \n",
       "1           0  \n",
       "2           0  \n",
       "3           0  \n",
       "4           0  \n",
       "..        ...  \n",
       "218         0  \n",
       "219         0  \n",
       "220         1  \n",
       "221         0  \n",
       "222         0  \n",
       "\n",
       "[223 rows x 9 columns]"
      ]
     },
     "execution_count": 3,
     "metadata": {},
     "output_type": "execute_result"
    }
   ],
   "source": [
    "pd.get_dummies(df['Осенний курс по выбору, приоритет 1'])"
   ]
  },
  {
   "cell_type": "markdown",
   "id": "dc13d779",
   "metadata": {},
   "source": [
    "### Кросс-валидация\n",
    "\n",
    "<img src=\"https://docs.splunk.com/images/thumb/e/ee/Kfold_cv_diagram.png/1200px-Kfold_cv_diagram.png\" width=50%>\n",
    "\n",
    "При кросс-валидации мы делим обучающую выборку на $n$ частей (fold). Затем мы обучаем $n$ моделей: каждая модель обучается при отсутствии соответствующего фолда, то есть $i$-ая модель обучается на всей обучающей выборке, кроме объектов, которые попали в $i$-ый фолд (out-of-fold). Затем мы измеряем качество $i$-ой модели на $i$-ом фолде. Так как он не участвовал в обучении этой модели, мы получим \"честный результат\". После этого, для получения финального значения метрики качества, мы можем усреднить полученные нами $n$ значений."
   ]
  },
  {
   "cell_type": "code",
   "execution_count": 4,
   "id": "498c37f1",
   "metadata": {
    "ExecuteTime": {
     "end_time": "2021-06-01T18:02:27.307487Z",
     "start_time": "2021-06-01T18:02:27.305758Z"
    }
   },
   "outputs": [],
   "source": [
    "# Класс для кросс-валидации\n",
    "kf = KFold()"
   ]
  },
  {
   "cell_type": "code",
   "execution_count": 5,
   "id": "2bc9299d",
   "metadata": {
    "ExecuteTime": {
     "end_time": "2021-06-01T18:02:27.319798Z",
     "start_time": "2021-06-01T18:02:27.309021Z"
    }
   },
   "outputs": [
    {
     "data": {
      "text/html": [
       "<div>\n",
       "<style scoped>\n",
       "    .dataframe tbody tr th:only-of-type {\n",
       "        vertical-align: middle;\n",
       "    }\n",
       "\n",
       "    .dataframe tbody tr th {\n",
       "        vertical-align: top;\n",
       "    }\n",
       "\n",
       "    .dataframe thead th {\n",
       "        text-align: right;\n",
       "    }\n",
       "</style>\n",
       "<table border=\"1\" class=\"dataframe\">\n",
       "  <thead>\n",
       "    <tr style=\"text-align: right;\">\n",
       "      <th></th>\n",
       "      <th>Рейтинг</th>\n",
       "      <th>Осенний курс по выбору, приоритет 1</th>\n",
       "      <th>Осенний курс по выбору, приоритет 2</th>\n",
       "      <th>Осенний курс по выбору, приоритет 3</th>\n",
       "    </tr>\n",
       "  </thead>\n",
       "  <tbody>\n",
       "    <tr>\n",
       "      <th>0</th>\n",
       "      <td>704.0</td>\n",
       "      <td>Язык SQL</td>\n",
       "      <td>Высокопроизводительные вычисления</td>\n",
       "      <td>Матричные вычисления</td>\n",
       "    </tr>\n",
       "    <tr>\n",
       "      <th>1</th>\n",
       "      <td>646.0</td>\n",
       "      <td>Высокопроизводительные вычисления</td>\n",
       "      <td>Безопасность компьютерных систем</td>\n",
       "      <td>Язык SQL</td>\n",
       "    </tr>\n",
       "    <tr>\n",
       "      <th>2</th>\n",
       "      <td>624.0</td>\n",
       "      <td>Безопасность компьютерных систем</td>\n",
       "      <td>Матричные вычисления</td>\n",
       "      <td>Моделирование временных рядов</td>\n",
       "    </tr>\n",
       "    <tr>\n",
       "      <th>3</th>\n",
       "      <td>579.0</td>\n",
       "      <td>Statistical Learning Theory</td>\n",
       "      <td>Высокопроизводительные вычисления</td>\n",
       "      <td>Матричные вычисления</td>\n",
       "    </tr>\n",
       "    <tr>\n",
       "      <th>4</th>\n",
       "      <td>632.0</td>\n",
       "      <td>Высокопроизводительные вычисления</td>\n",
       "      <td>Безопасность компьютерных систем</td>\n",
       "      <td>Теория баз данных</td>\n",
       "    </tr>\n",
       "    <tr>\n",
       "      <th>...</th>\n",
       "      <td>...</td>\n",
       "      <td>...</td>\n",
       "      <td>...</td>\n",
       "      <td>...</td>\n",
       "    </tr>\n",
       "    <tr>\n",
       "      <th>218</th>\n",
       "      <td>517.0</td>\n",
       "      <td>Безопасность компьютерных систем</td>\n",
       "      <td>Теория баз данных</td>\n",
       "      <td>Язык SQL</td>\n",
       "    </tr>\n",
       "    <tr>\n",
       "      <th>219</th>\n",
       "      <td>634.0</td>\n",
       "      <td>Теория баз данных</td>\n",
       "      <td>Безопасность компьютерных систем</td>\n",
       "      <td>Моделирование временных рядов</td>\n",
       "    </tr>\n",
       "    <tr>\n",
       "      <th>220</th>\n",
       "      <td>584.0</td>\n",
       "      <td>Язык SQL</td>\n",
       "      <td>Теория баз данных</td>\n",
       "      <td>Безопасность компьютерных систем</td>\n",
       "    </tr>\n",
       "    <tr>\n",
       "      <th>221</th>\n",
       "      <td>646.0</td>\n",
       "      <td>Теория баз данных</td>\n",
       "      <td>Высокопроизводительные вычисления</td>\n",
       "      <td>Безопасность компьютерных систем</td>\n",
       "    </tr>\n",
       "    <tr>\n",
       "      <th>222</th>\n",
       "      <td>694.0</td>\n",
       "      <td>Безопасность компьютерных систем</td>\n",
       "      <td>Язык SQL</td>\n",
       "      <td>Высокопроизводительные вычисления</td>\n",
       "    </tr>\n",
       "  </tbody>\n",
       "</table>\n",
       "<p>223 rows × 4 columns</p>\n",
       "</div>"
      ],
      "text/plain": [
       "     Рейтинг Осенний курс по выбору, приоритет 1  \\\n",
       "0      704.0                            Язык SQL   \n",
       "1      646.0   Высокопроизводительные вычисления   \n",
       "2      624.0    Безопасность компьютерных систем   \n",
       "3      579.0         Statistical Learning Theory   \n",
       "4      632.0   Высокопроизводительные вычисления   \n",
       "..       ...                                 ...   \n",
       "218    517.0    Безопасность компьютерных систем   \n",
       "219    634.0                   Теория баз данных   \n",
       "220    584.0                            Язык SQL   \n",
       "221    646.0                   Теория баз данных   \n",
       "222    694.0    Безопасность компьютерных систем   \n",
       "\n",
       "    Осенний курс по выбору, приоритет 2 Осенний курс по выбору, приоритет 3  \n",
       "0     Высокопроизводительные вычисления                Матричные вычисления  \n",
       "1      Безопасность компьютерных систем                            Язык SQL  \n",
       "2                  Матричные вычисления       Моделирование временных рядов  \n",
       "3     Высокопроизводительные вычисления                Матричные вычисления  \n",
       "4      Безопасность компьютерных систем                   Теория баз данных  \n",
       "..                                  ...                                 ...  \n",
       "218                   Теория баз данных                            Язык SQL  \n",
       "219    Безопасность компьютерных систем       Моделирование временных рядов  \n",
       "220                   Теория баз данных    Безопасность компьютерных систем  \n",
       "221   Высокопроизводительные вычисления    Безопасность компьютерных систем  \n",
       "222                            Язык SQL   Высокопроизводительные вычисления  \n",
       "\n",
       "[223 rows x 4 columns]"
      ]
     },
     "execution_count": 5,
     "metadata": {},
     "output_type": "execute_result"
    }
   ],
   "source": [
    "# Определяем матрицу признаков\n",
    "X = df[['Рейтинг', 'Осенний курс по выбору, приоритет 1', 'Осенний курс по выбору, приоритет 2', 'Осенний курс по выбору, приоритет 3']]\n",
    "X"
   ]
  },
  {
   "cell_type": "code",
   "execution_count": 6,
   "id": "d1397ff2",
   "metadata": {
    "ExecuteTime": {
     "end_time": "2021-06-01T18:02:27.325394Z",
     "start_time": "2021-06-01T18:02:27.321278Z"
    }
   },
   "outputs": [
    {
     "data": {
      "text/plain": [
       "0      181\n",
       "1      181\n",
       "2      185\n",
       "3      182\n",
       "4      183\n",
       "      ... \n",
       "218    185\n",
       "219    184\n",
       "220    188\n",
       "221    186\n",
       "222    188\n",
       "Name: Группа (в формате 182), Length: 223, dtype: object"
      ]
     },
     "execution_count": 6,
     "metadata": {},
     "output_type": "execute_result"
    }
   ],
   "source": [
    "# Определяем вектор признаков. Делаем его строковым (каким он на самом деле и является).\n",
    "y = df['Группа (в формате 182)'].astype(str)\n",
    "y"
   ]
  },
  {
   "cell_type": "code",
   "execution_count": 7,
   "id": "e5d105a9",
   "metadata": {
    "ExecuteTime": {
     "end_time": "2021-06-01T18:02:27.328864Z",
     "start_time": "2021-06-01T18:02:27.326711Z"
    }
   },
   "outputs": [],
   "source": [
    "# Категоризуем вектор: заменяем строковые значения на числа от 0 до (*число уникальных значений* - 1)\n",
    "labels, keys = y.factorize()"
   ]
  },
  {
   "cell_type": "code",
   "execution_count": 8,
   "id": "3c786e81",
   "metadata": {
    "ExecuteTime": {
     "end_time": "2021-06-01T18:02:27.334098Z",
     "start_time": "2021-06-01T18:02:27.331920Z"
    }
   },
   "outputs": [],
   "source": [
    "# Метрика accuracy\n",
    "def accuracy(y, y_pred):\n",
    "    return sum(y == y_pred) / len(y)"
   ]
  },
  {
   "cell_type": "code",
   "execution_count": 9,
   "id": "2b41edb0",
   "metadata": {
    "ExecuteTime": {
     "end_time": "2021-06-01T18:02:27.386477Z",
     "start_time": "2021-06-01T18:02:27.336531Z"
    },
    "code_folding": []
   },
   "outputs": [
    {
     "name": "stdout",
     "output_type": "stream",
     "text": [
      "Accuracy on test data: 0.2222\n",
      "Accuracy on train data: 0.7753\n",
      "\n",
      "Accuracy on test data: 0.2222\n",
      "Accuracy on train data: 0.7809\n",
      "\n",
      "Accuracy on test data: 0.2444\n",
      "Accuracy on train data: 0.7753\n",
      "\n",
      "Accuracy on test data: 0.2955\n",
      "Accuracy on train data: 0.8101\n",
      "\n",
      "Accuracy on test data: 0.2273\n",
      "Accuracy on train data: 0.7821\n",
      "\n"
     ]
    }
   ],
   "source": [
    "# При помощи кросс-валидации оцениваем модель kNN с весами с гиперпараметром `n_neighbors=5`\n",
    "for (train_idx, test_idx) in kf.split(y):\n",
    "    X_train = X.iloc[train_idx]\n",
    "    y_train = labels[train_idx]\n",
    "    \n",
    "    X_test = X.iloc[test_idx]\n",
    "    y_test = labels[test_idx]\n",
    "    \n",
    "    ct = ColumnTransformer([('ohe', OneHotEncoder(handle_unknown='ignore'), X.columns[1:])])\n",
    "    X_train = ct.fit_transform(X_train)\n",
    "    X_test = ct.transform(X_test)\n",
    "    \n",
    "    knn = KNeighborsClassifier(weights='distance')\n",
    "    knn.fit(X_train, y_train)\n",
    "    \n",
    "    y_pred = knn.predict(X_test)\n",
    "    acc_test = accuracy(y_test, y_pred)\n",
    "    print(f'Accuracy on test data: {acc_test:.4f}')\n",
    "    \n",
    "    y_pred = knn.predict(X_train)\n",
    "    acc_train = accuracy(y_train, y_pred)\n",
    "    print(f'Accuracy on train data: {acc_train:.4f}\\n')"
   ]
  },
  {
   "cell_type": "markdown",
   "id": "03a5d648",
   "metadata": {},
   "source": [
    "### А теперь посмотрим на наши данные! Разложим их в 2-мерное пространство, сохраняя как можно больше дисперсии."
   ]
  },
  {
   "cell_type": "code",
   "execution_count": 10,
   "id": "6166f6af",
   "metadata": {
    "ExecuteTime": {
     "end_time": "2021-06-01T18:02:27.390111Z",
     "start_time": "2021-06-01T18:02:27.388034Z"
    }
   },
   "outputs": [],
   "source": [
    "pca = PCA()"
   ]
  },
  {
   "cell_type": "code",
   "execution_count": 11,
   "id": "ddf3d0b8",
   "metadata": {
    "ExecuteTime": {
     "end_time": "2021-06-01T18:02:27.395233Z",
     "start_time": "2021-06-01T18:02:27.391685Z"
    }
   },
   "outputs": [],
   "source": [
    "pca_train = pca.fit_transform(X_train.toarray())\n",
    "pca_test = pca.transform(X_test.toarray())"
   ]
  },
  {
   "cell_type": "code",
   "execution_count": 12,
   "id": "ff8c230d",
   "metadata": {
    "ExecuteTime": {
     "end_time": "2021-06-01T18:02:27.644647Z",
     "start_time": "2021-06-01T18:02:27.396444Z"
    }
   },
   "outputs": [
    {
     "data": {
      "text/plain": [
       "<matplotlib.collections.PathCollection at 0x7fdd3067ee50>"
      ]
     },
     "execution_count": 12,
     "metadata": {},
     "output_type": "execute_result"
    },
    {
     "data": {
      "image/png": "[encoded data removed]",
      "text/plain": [
       "<Figure size 864x576 with 1 Axes>"
      ]
     },
     "metadata": {
      "needs_background": "light"
     },
     "output_type": "display_data"
    }
   ],
   "source": [
    "plt.figure(figsize=(12, 8))\n",
    "plt.scatter(pca_train[:, 0], pca_train[:, 1], c=y_train)\n",
    "plt.scatter(pca_test[:, 0], pca_test[:, 1], c='Red')"
   ]
  },
  {
   "cell_type": "code",
   "execution_count": null,
   "id": "ea7dcb33",
   "metadata": {},
   "outputs": [],
   "source": []
  }
 ],
 "metadata": {
  "kernelspec": {
   "display_name": "Python 3",
   "language": "python",
   "name": "python3"
  },
  "language_info": {
   "codemirror_mode": {
    "name": "ipython",
    "version": 3
   },
   "file_extension": ".py",
   "mimetype": "text/x-python",
   "name": "python",
   "nbconvert_exporter": "python",
   "pygments_lexer": "ipython3",
   "version": "3.8.3"
  },
  "nbTranslate": {
   "displayLangs": [
    "*"
   ],
   "hotkey": "alt-t",
   "langInMainMenu": true,
   "sourceLang": "en",
   "targetLang": "fr",
   "useGoogleTranslate": true
  },
  "toc": {
   "base_numbering": 1,
   "nav_menu": {},
   "number_sections": true,
   "sideBar": true,
   "skip_h1_title": false,
   "title_cell": "Table of Contents",
   "title_sidebar": "Contents",
   "toc_cell": false,
   "toc_position": {},
   "toc_section_display": true,
   "toc_window_display": false
  },
  "varInspector": {
   "cols": {
    "lenName": 16,
    "lenType": 16,
    "lenVar": 40
   },
   "kernels_config": {
    "python": {
     "delete_cmd_postfix": "",
     "delete_cmd_prefix": "del ",
     "library": "var_list.py",
     "varRefreshCmd": "print(var_dic_list())"
    },
    "r": {
     "delete_cmd_postfix": ") ",
     "delete_cmd_prefix": "rm(",
     "library": "var_list.r",
     "varRefreshCmd": "cat(var_dic_list()) "
    }
   },
   "types_to_exclude": [
    "module",
    "function",
    "builtin_function_or_method",
    "instance",
    "_Feature"
   ],
   "window_display": false
  }
 },
 "nbformat": 4,
 "nbformat_minor": 5
}
